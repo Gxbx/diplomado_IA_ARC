{
 "cells": [
  {
   "cell_type": "markdown",
   "id": "e60cf461",
   "metadata": {},
   "source": [
    "# PLN - Emotion Analisy"
   ]
  },
  {
   "cell_type": "code",
   "execution_count": null,
   "id": "b53886f1",
   "metadata": {},
   "outputs": [],
   "source": [
    "#!pip -q install --upgrade transformers torch --extra-index-url https://download.pytorch.org/whl/cpu"
   ]
  },
  {
   "cell_type": "code",
   "execution_count": null,
   "id": "ff6864a9",
   "metadata": {},
   "outputs": [],
   "source": [
    "from transformers import pipeline\n",
    "import torch\n",
    "\n",
    "MODEL_NAME = 'finiteautomata/beto-sentiment-analysis'\n",
    "\n",
    "device = 0 if torch.cuda.is_available() else -1\n",
    "clf = pipeline('text-classification', model=MODEL_NAME, tokenizer=MODEL_NAME, top_k=None, device=device)\n",
    "print('Modelo cargado ✅:', MODEL_NAME)"
   ]
  },
  {
   "cell_type": "markdown",
   "id": "62e73b5c",
   "metadata": {},
   "source": [
    "## Analizar un frase de ejemplo"
   ]
  },
  {
   "cell_type": "code",
   "execution_count": null,
   "id": "fd649853",
   "metadata": {},
   "outputs": [],
   "source": [
    "phrase = \"Este producto es increíble, superó mis expectativas\"\n",
    "pred = clf(phrase)[0]\n",
    "label = pred['label']  \n",
    "score = pred['score']\n",
    "\n",
    "map_labels = {'NEG':'Negativo', 'NEU':'Neutral', 'POS':'Positivo'}\n",
    "\n",
    "print(f'Frase: \"{phrase}\"\\nPredicción: {map_labels[label]} (Confianza: {score:.4f})')"
   ]
  }
 ],
 "metadata": {
  "language_info": {
   "name": "python"
  }
 },
 "nbformat": 4,
 "nbformat_minor": 5
}
