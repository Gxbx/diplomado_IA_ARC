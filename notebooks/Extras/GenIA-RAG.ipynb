{
 "cells": [
  {
   "cell_type": "markdown",
   "id": "266ef883",
   "metadata": {},
   "source": [
    "# Generación Aumentada por Recuperación (RAG) - IA Generativa"
   ]
  },
  {
   "cell_type": "markdown",
   "id": "c53c5952",
   "metadata": {},
   "source": [
    "## Importar dependencia"
   ]
  },
  {
   "cell_type": "code",
   "execution_count": null,
   "id": "a9100aab",
   "metadata": {},
   "outputs": [],
   "source": [
    "import os\n",
    "os.environ[\"GROQ_API_KEY\"] = \"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\"\n",
    "\n",
    "from langchain_community.document_loaders import TextLoader\n",
    "from langchain.embeddings import HuggingFaceEmbeddings\n",
    "from langchain.vectorstores import FAISS\n",
    "from langchain_groq import ChatGroq\n",
    "from langchain.chains import RetrievalQA"
   ]
  },
  {
   "cell_type": "markdown",
   "id": "56319498",
   "metadata": {},
   "source": [
    "## Carga del archivo"
   ]
  },
  {
   "cell_type": "code",
   "execution_count": 11,
   "id": "242f6f09",
   "metadata": {},
   "outputs": [
    {
     "name": "stdout",
     "output_type": "stream",
     "text": [
      "Documentos cargados: 1\n"
     ]
    },
    {
     "name": "stdout",
     "output_type": "stream",
     "text": [
      "ERROR! Session/line number was not unique in database. History logging moved to new session 68\n"
     ]
    }
   ],
   "source": [
    "loader = TextLoader('./data/data.txt')\n",
    "documents = loader.load()\n",
    "print(f\"Documentos cargados: {len(documents)}\")"
   ]
  },
  {
   "cell_type": "markdown",
   "id": "355021c2",
   "metadata": {},
   "source": [
    "## Construir indices"
   ]
  },
  {
   "cell_type": "code",
   "execution_count": 12,
   "id": "4a9ffc6c",
   "metadata": {},
   "outputs": [],
   "source": [
    "embeddings = HuggingFaceEmbeddings(model_name=\"sentence-transformers/all-MiniLM-L6-v2\")\n",
    "vectorstore = FAISS.from_documents(documents, embeddings)"
   ]
  },
  {
   "cell_type": "markdown",
   "id": "7fbe7886",
   "metadata": {},
   "source": [
    "## Configuración y llamado al LLMs (Llama)"
   ]
  },
  {
   "cell_type": "code",
   "execution_count": 13,
   "id": "48ca840b",
   "metadata": {},
   "outputs": [],
   "source": [
    "llm = ChatGroq(\n",
    "    groq_api_key= os.getenv(\"GROQ_API_KEY\"),\n",
    "    model_name=\"llama-3.1-8b-instant\"\n",
    ")\n"
   ]
  },
  {
   "cell_type": "markdown",
   "id": "c28dadce",
   "metadata": {},
   "source": [
    "## El recuperador de datos "
   ]
  },
  {
   "cell_type": "code",
   "execution_count": 14,
   "id": "66569cfd",
   "metadata": {},
   "outputs": [],
   "source": [
    "qa_chain = RetrievalQA.from_chain_type(\n",
    "    llm=llm,\n",
    "    retriever = vectorstore.as_retriever(),\n",
    "    return_source_documents=True\n",
    ")"
   ]
  },
  {
   "cell_type": "code",
   "execution_count": 15,
   "id": "16c4f524",
   "metadata": {},
   "outputs": [
    {
     "name": "stdout",
     "output_type": "stream",
     "text": [
      "Respuesta:\n",
      "El diplomado en Machine Learning y Procesamiento del Lenguaje Natural está diseñado para fortalecer las competencias técnicas y analíticas del equipo de tecnología del Centro Naval mediante el estudio de los fundamentos y aplicaciones prácticas del Machine Learning (ML) y el Procesamiento del Lenguaje Natural (PLN), con énfasis en la seguridad, defensa y análisis de información estratégica.\n",
      "\n",
      "El objetivo final es preparar al equipo para que pueda no solo entender, sino también construir y desplegar prototipos funcionales de ML/PLN que solucionen problemas definidos, y la habilidad para comunicar sus resultados y su impacto potencial.\n",
      "\n",
      "Fuente:\n",
      "./data/data.txt\n"
     ]
    }
   ],
   "source": [
    "query = input(\"Preguntame acerca del desastre del titanic\")\n",
    "\n",
    "respuestas = qa_chain(query)\n",
    "\n",
    "print(\"Respuesta:\")\n",
    "print(respuestas[\"result\"])\n",
    "\n",
    "print(\"\\nFuente:\")\n",
    "for doc in respuestas[\"source_documents\"]:\n",
    "    print(doc.metadata[\"source\"])"
   ]
  }
 ],
 "metadata": {
  "kernelspec": {
   "display_name": ".venv",
   "language": "python",
   "name": "python3"
  },
  "language_info": {
   "codemirror_mode": {
    "name": "ipython",
    "version": 3
   },
   "file_extension": ".py",
   "mimetype": "text/x-python",
   "name": "python",
   "nbconvert_exporter": "python",
   "pygments_lexer": "ipython3",
   "version": "3.12.5"
  }
 },
 "nbformat": 4,
 "nbformat_minor": 5
}
