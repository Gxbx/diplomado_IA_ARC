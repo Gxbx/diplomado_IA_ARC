{
 "cells": [
  {
   "cell_type": "markdown",
   "id": "5f206014",
   "metadata": {},
   "source": [
    "# Regresión lógistica "
   ]
  },
  {
   "cell_type": "markdown",
   "id": "a9f94ee6",
   "metadata": {},
   "source": [
    "## Importar librerias necesarias"
   ]
  },
  {
   "cell_type": "code",
   "execution_count": null,
   "id": "61a6e1c2",
   "metadata": {},
   "outputs": [],
   "source": [
    "import numpy as np\n",
    "import pandas as pd\n",
    "from sklearn.model_selection import train_test_split, cross_val_score\n",
    "from sklearn.compose import ColumnTransformer\n",
    "from sklearn.pipeline import Pipeline\n",
    "from sklearn.preprocessing import OneHotEncoder, StandardScaler\n",
    "from sklearn.linear_model import LogisticRegression\n",
    "from sklearn.metrics import accuracy_score, precision_score, recall_score, f1_score, roc_auc_score\n",
    "from sklearn.metrics import confusion_matrix, ConfusionMatrixDisplay, RocCurveDisplay\n",
    "import matplotlib.pyplot as plt\n",
    "import seaborn as sns"
   ]
  },
  {
   "cell_type": "code",
   "execution_count": null,
   "id": "1ea707b4",
   "metadata": {},
   "outputs": [],
   "source": [
    "# Carga de datos\n",
    "def load_titanic():\n",
    "    try:\n",
    "        import seaborn as sns\n",
    "        df = sns.load_dataset('titanic')\n",
    "        source = \"seaborn\"\n",
    "    except Exception:\n",
    "        # Ajusta el nombre de tu CSV si es distinto\n",
    "        df = pd.read_csv(\"Titanic-Dataset.csv\")\n",
    "        source = \"csv_local\"\n",
    "    return df, source\n",
    "\n",
    "df_raw, source = load_titanic()\n",
    "print(f\"Fuente de datos: {source}\")\n",
    "df_raw.head()"
   ]
  }
 ],
 "metadata": {
  "kernelspec": {
   "display_name": ".venv",
   "language": "python",
   "name": "python3"
  },
  "language_info": {
   "codemirror_mode": {
    "name": "ipython",
    "version": 3
   },
   "file_extension": ".py",
   "mimetype": "text/x-python",
   "name": "python",
   "nbconvert_exporter": "python",
   "pygments_lexer": "ipython3",
   "version": "3.12.5"
  }
 },
 "nbformat": 4,
 "nbformat_minor": 5
}
